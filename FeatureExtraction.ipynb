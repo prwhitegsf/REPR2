{
 "cells": [
  {
   "cell_type": "code",
   "execution_count": 1,
   "metadata": {},
   "outputs": [
    {
     "data": {
      "application/vnd.jupyter.widget-view+json": {
       "model_id": "a6d16f34c4bf4d12b99ac6c765b2d92f",
       "version_major": 2,
       "version_minor": 0
      },
      "text/plain": [
       "HBox(children=(VBox(children=(VBox(children=(Label(value='Emotions'),)), SelectMultiple(index=(0,), layout=Lay…"
      ]
     },
     "execution_count": 1,
     "metadata": {},
     "output_type": "execute_result"
    }
   ],
   "source": [
    "%matplotlib widget\n",
    "\n",
    "import ipywidgets as widgets\n",
    "from ipywidgets import Layout\n",
    "from IPython.display import display\n",
    "from functools import partial\n",
    "import matplotlib.pyplot as plt\n",
    "import src.FeatureExplorer.DataController as datacontrol\n",
    "import src.FeatureExplorer.ViewController as vc\n",
    "\n",
    "\n",
    "widgets.HBox([vc.control_box,vc.view_box])\n"
   ]
  },
  {
   "cell_type": "code",
   "execution_count": 3,
   "metadata": {},
   "outputs": [
    {
     "name": "stdout",
     "output_type": "stream",
     "text": [
      "GridSearchCV took 9.76 seconds for 28 candidate parameter settings.\n"
     ]
    }
   ],
   "source": [
    "import src.ModelEvaluator.GridSearch as gs\n",
    "import src.ModelEvaluator.ViewResults as vr\n",
    "import src.ModelEvaluator.EvalViewController as evc\n",
    "\n",
    "gridsearch = gs.GridCV(vc.df)\n",
    "results = gridsearch.perform_gridsearch()\n",
    "# there should be a funciton in dataframe that spits these out\n",
    "\n"
   ]
  },
  {
   "cell_type": "code",
   "execution_count": 4,
   "metadata": {},
   "outputs": [
    {
     "data": {
      "application/vnd.jupyter.widget-view+json": {
       "model_id": "b97ad8d0369d4d25b149d8f889f618a1",
       "version_major": 2,
       "version_minor": 0
      },
      "text/plain": [
       "HBox(children=(VBox(children=(Label(value='Select Record to View'), Dropdown(options=('1', '2', '3', '4', '5',…"
      ]
     },
     "execution_count": 4,
     "metadata": {},
     "output_type": "execute_result"
    },
    {
     "name": "stderr",
     "output_type": "stream",
     "text": [
      "No such comm: fb40b4d1f2b54038911ed835df3f7ee5\n",
      "No such comm: fb40b4d1f2b54038911ed835df3f7ee5\n",
      "No such comm: fb40b4d1f2b54038911ed835df3f7ee5\n",
      "No such comm: cf3c28f9b2744b8184de15c11f93bf07\n",
      "No such comm: cf3c28f9b2744b8184de15c11f93bf07\n",
      "No such comm: cf3c28f9b2744b8184de15c11f93bf07\n"
     ]
    },
    {
     "name": "stderr",
     "output_type": "stream",
     "text": [
      "No such comm: 86966336ef914452b983e754b5945720\n",
      "No such comm: 86966336ef914452b983e754b5945720\n",
      "No such comm: 86966336ef914452b983e754b5945720\n"
     ]
    }
   ],
   "source": [
    "tr = vr.ResultsViewer(results,vc.df.features_train,vc.df.labels_train,vc.df.features_test,vc.df.labels_test)\n",
    "evc.eval_controller(tr)"
   ]
  }
 ],
 "metadata": {
  "kernelspec": {
   "display_name": ".venv",
   "language": "python",
   "name": "python3"
  },
  "language_info": {
   "codemirror_mode": {
    "name": "ipython",
    "version": 3
   },
   "file_extension": ".py",
   "mimetype": "text/x-python",
   "name": "python",
   "nbconvert_exporter": "python",
   "pygments_lexer": "ipython3",
   "version": "3.11.8"
  }
 },
 "nbformat": 4,
 "nbformat_minor": 2
}
