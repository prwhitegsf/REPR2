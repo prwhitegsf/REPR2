{
 "cells": [
  {
   "cell_type": "code",
   "execution_count": 1,
   "metadata": {},
   "outputs": [
    {
     "data": {
      "application/vnd.jupyter.widget-view+json": {
       "model_id": "90608356f0d840b7a4e9fffe006a0bfe",
       "version_major": 2,
       "version_minor": 0
      },
      "text/plain": [
       "HBox(children=(VBox(children=(VBox(children=(Label(value='Emotions'),)), SelectMultiple(index=(0,), layout=Lay…"
      ]
     },
     "execution_count": 1,
     "metadata": {},
     "output_type": "execute_result"
    }
   ],
   "source": [
    "%matplotlib widget\n",
    "import warnings\n",
    "warnings.filterwarnings('ignore')\n",
    "\n",
    "import ipywidgets as widgets\n",
    "from ipywidgets import Layout\n",
    "from IPython.display import display\n",
    "from functools import partial\n",
    "import matplotlib.pyplot as plt\n",
    "import src.FeatureExplorer.DataController as datacontrol\n",
    "import src.FeatureExplorer.ViewController as vc\n",
    "\n",
    "df = datacontrol.dataframe('datasets/RAVDESS/metadata/RAVDESS.csv')\n",
    "vc.view_feature_controls(df)"
   ]
  },
  {
   "cell_type": "code",
   "execution_count": 3,
   "metadata": {},
   "outputs": [
    {
     "name": "stdout",
     "output_type": "stream",
     "text": [
      "GridSearchCV took 6.20 seconds for 16 candidate parameter settings.\n"
     ]
    }
   ],
   "source": [
    "import src.ModelEvaluator.GridSearch as gs\n",
    "import src.ModelEvaluator.ViewResults as vr\n",
    "import src.ModelEvaluator.EvalViewController as evc\n",
    "\n",
    "gridsearch = gs.GridCV(df)\n",
    "results = gridsearch.perform_gridsearch()\n",
    "# there should be a funciton in dataframe that spits these out\n",
    "tr = vr.ResultsViewer(results,df.features_train,df.labels_train,df.features_test,df.labels_test)\n",
    "#evc.eval_controller(tr)\n",
    "\n"
   ]
  },
  {
   "cell_type": "code",
   "execution_count": 4,
   "metadata": {},
   "outputs": [
    {
     "data": {
      "application/vnd.jupyter.widget-view+json": {
       "model_id": "55669f59f36044978f4db764ab981777",
       "version_major": 2,
       "version_minor": 0
      },
      "text/plain": [
       "HBox(children=(VBox(children=(Label(value='Select Record to View'), Dropdown(options=('1', '2', '3', '4', '5',…"
      ]
     },
     "execution_count": 4,
     "metadata": {},
     "output_type": "execute_result"
    }
   ],
   "source": [
    "evc.eval_controller(tr)"
   ]
  }
 ],
 "metadata": {
  "kernelspec": {
   "display_name": ".venv",
   "language": "python",
   "name": "python3"
  },
  "language_info": {
   "codemirror_mode": {
    "name": "ipython",
    "version": 3
   },
   "file_extension": ".py",
   "mimetype": "text/x-python",
   "name": "python",
   "nbconvert_exporter": "python",
   "pygments_lexer": "ipython3",
   "version": "3.11.8"
  }
 },
 "nbformat": 4,
 "nbformat_minor": 2
}
